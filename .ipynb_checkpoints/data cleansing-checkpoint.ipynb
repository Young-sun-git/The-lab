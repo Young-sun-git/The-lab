{
 "cells": [
  {
   "cell_type": "code",
   "execution_count": 1,
   "id": "a4bb4e7f",
   "metadata": {
    "ExecuteTime": {
     "end_time": "2022-03-23T03:55:01.022469Z",
     "start_time": "2022-03-23T03:54:58.677803Z"
    }
   },
   "outputs": [],
   "source": [
    "# !pip install Pandas \n",
    "import pandas as pd\n",
    "import numpy as np"
   ]
  },
  {
   "cell_type": "code",
   "execution_count": 2,
   "id": "dd244a87",
   "metadata": {
    "ExecuteTime": {
     "end_time": "2022-03-23T03:55:01.683444Z",
     "start_time": "2022-03-23T03:55:01.026419Z"
    }
   },
   "outputs": [],
   "source": [
    "df_arCar= pd.read_csv(\"data/anal_report_title_car.csv\", encoding=\"cp949\")"
   ]
  },
  {
   "cell_type": "code",
   "execution_count": 3,
   "id": "19880e90",
   "metadata": {
    "ExecuteTime": {
     "end_time": "2022-03-23T03:55:01.699588Z",
     "start_time": "2022-03-23T03:55:01.685412Z"
    }
   },
   "outputs": [],
   "source": [
    "df=df_arCar.loc[:,['code','coname','house','analyst','carm','yy','mm','dd','title']]"
   ]
  },
  {
   "cell_type": "code",
   "execution_count": 4,
   "id": "38ede9b4",
   "metadata": {
    "ExecuteTime": {
     "end_time": "2022-03-23T03:55:01.746015Z",
     "start_time": "2022-03-23T03:55:01.701550Z"
    }
   },
   "outputs": [
    {
     "name": "stdout",
     "output_type": "stream",
     "text": [
      "    code coname    house analyst          carm      yy    mm    dd title\n",
      "0  15940  LG데이콤  KTB투자증권     송재경  -0.043824253  2009.0  12.0   2.0   NaN\n",
      "1  49070    인탑스  LIG투자증권     김갑호  0.0487471867  2009.0  12.0  15.0   NaN\n",
      "2  49520   유아이엘  LIG투자증권     김갑호  0.0849471867  2009.0  12.0  15.0   NaN\n",
      "3  54340    피앤텔  LIG투자증권     김갑호  -0.000152813  2009.0  12.0  15.0   NaN\n",
      "4  68790    DMS  LIG투자증권     김영준  -0.030058153  2009.0   9.0  22.0   NaN\n"
     ]
    },
    {
     "data": {
      "text/html": [
       "<div>\n",
       "<style scoped>\n",
       "    .dataframe tbody tr th:only-of-type {\n",
       "        vertical-align: middle;\n",
       "    }\n",
       "\n",
       "    .dataframe tbody tr th {\n",
       "        vertical-align: top;\n",
       "    }\n",
       "\n",
       "    .dataframe thead th {\n",
       "        text-align: right;\n",
       "    }\n",
       "</style>\n",
       "<table border=\"1\" class=\"dataframe\">\n",
       "  <thead>\n",
       "    <tr style=\"text-align: right;\">\n",
       "      <th></th>\n",
       "      <th>code</th>\n",
       "      <th>coname</th>\n",
       "      <th>house</th>\n",
       "      <th>analyst</th>\n",
       "      <th>carm</th>\n",
       "      <th>yy</th>\n",
       "      <th>mm</th>\n",
       "      <th>dd</th>\n",
       "      <th>title</th>\n",
       "    </tr>\n",
       "  </thead>\n",
       "  <tbody>\n",
       "    <tr>\n",
       "      <th>44616</th>\n",
       "      <td>97230</td>\n",
       "      <td>한진중공업</td>\n",
       "      <td>삼성증권</td>\n",
       "      <td>한영수</td>\n",
       "      <td>-0.039736673</td>\n",
       "      <td>2014.0</td>\n",
       "      <td>2.0</td>\n",
       "      <td>28.0</td>\n",
       "      <td>한진중공업-이익개선 기대감 vs 이익전망을 변경시킬 수 있는 요소들</td>\n",
       "    </tr>\n",
       "    <tr>\n",
       "      <th>44617</th>\n",
       "      <td>55550</td>\n",
       "      <td>신한지주</td>\n",
       "      <td>KB투자증권</td>\n",
       "      <td>유승창</td>\n",
       "      <td>-0.003910137</td>\n",
       "      <td>2015.0</td>\n",
       "      <td>10.0</td>\n",
       "      <td>22.0</td>\n",
       "      <td>신한지주-이익 안정성 및 배당수익률 상승 기대감 유효</td>\n",
       "    </tr>\n",
       "    <tr>\n",
       "      <th>44618</th>\n",
       "      <td>33660</td>\n",
       "      <td>아주캐피탈</td>\n",
       "      <td>삼성증권</td>\n",
       "      <td>김재우</td>\n",
       "      <td>0.0130434491</td>\n",
       "      <td>2016.0</td>\n",
       "      <td>11.0</td>\n",
       "      <td>16.0</td>\n",
       "      <td>아주캐피탈-3Q review-이익 안정성 매력적이나 중장기적 시장 입지 강화 필요</td>\n",
       "    </tr>\n",
       "    <tr>\n",
       "      <th>44619</th>\n",
       "      <td>120</td>\n",
       "      <td>CJ대한통운</td>\n",
       "      <td>키움증권</td>\n",
       "      <td>조병희</td>\n",
       "      <td>-0.016607077</td>\n",
       "      <td>2018.0</td>\n",
       "      <td>1.0</td>\n",
       "      <td>3.0</td>\n",
       "      <td>CJ대한통운-낮아진 기대감, 이익 증가 확인 이후 반등 기대</td>\n",
       "    </tr>\n",
       "    <tr>\n",
       "      <th>44620</th>\n",
       "      <td>120</td>\n",
       "      <td>CJ대한통운</td>\n",
       "      <td>HMC투자증권</td>\n",
       "      <td>김정은</td>\n",
       "      <td>-0.040710288</td>\n",
       "      <td>2011.0</td>\n",
       "      <td>3.0</td>\n",
       "      <td>30.0</td>\n",
       "      <td>대한통운-안정적 이익 성장세 + M&amp;A 프리미엄, 운송업종 최선호주 추천</td>\n",
       "    </tr>\n",
       "  </tbody>\n",
       "</table>\n",
       "</div>"
      ],
      "text/plain": [
       "        code  coname    house analyst          carm      yy    mm    dd  \\\n",
       "44616  97230   한진중공업     삼성증권     한영수  -0.039736673  2014.0   2.0  28.0   \n",
       "44617  55550    신한지주   KB투자증권     유승창  -0.003910137  2015.0  10.0  22.0   \n",
       "44618  33660   아주캐피탈     삼성증권     김재우  0.0130434491  2016.0  11.0  16.0   \n",
       "44619    120  CJ대한통운     키움증권     조병희  -0.016607077  2018.0   1.0   3.0   \n",
       "44620    120  CJ대한통운  HMC투자증권     김정은  -0.040710288  2011.0   3.0  30.0   \n",
       "\n",
       "                                               title  \n",
       "44616          한진중공업-이익개선 기대감 vs 이익전망을 변경시킬 수 있는 요소들  \n",
       "44617                  신한지주-이익 안정성 및 배당수익률 상승 기대감 유효  \n",
       "44618  아주캐피탈-3Q review-이익 안정성 매력적이나 중장기적 시장 입지 강화 필요  \n",
       "44619              CJ대한통운-낮아진 기대감, 이익 증가 확인 이후 반등 기대  \n",
       "44620       대한통운-안정적 이익 성장세 + M&A 프리미엄, 운송업종 최선호주 추천  "
      ]
     },
     "execution_count": 4,
     "metadata": {},
     "output_type": "execute_result"
    }
   ],
   "source": [
    "print(df.head())\n",
    "df.tail()"
   ]
  },
  {
   "cell_type": "markdown",
   "id": "6e936108",
   "metadata": {},
   "source": [
    "## title NaN제거 "
   ]
  },
  {
   "cell_type": "code",
   "execution_count": 65,
   "id": "88c83672",
   "metadata": {
    "ExecuteTime": {
     "end_time": "2022-03-21T00:14:58.634566Z",
     "start_time": "2022-03-21T00:14:58.588407Z"
    }
   },
   "outputs": [
    {
     "data": {
      "text/html": [
       "<div>\n",
       "<style scoped>\n",
       "    .dataframe tbody tr th:only-of-type {\n",
       "        vertical-align: middle;\n",
       "    }\n",
       "\n",
       "    .dataframe tbody tr th {\n",
       "        vertical-align: top;\n",
       "    }\n",
       "\n",
       "    .dataframe thead th {\n",
       "        text-align: right;\n",
       "    }\n",
       "</style>\n",
       "<table border=\"1\" class=\"dataframe\">\n",
       "  <thead>\n",
       "    <tr style=\"text-align: right;\">\n",
       "      <th></th>\n",
       "      <th>code</th>\n",
       "      <th>coname</th>\n",
       "      <th>house</th>\n",
       "      <th>analyst</th>\n",
       "      <th>carm</th>\n",
       "      <th>yy</th>\n",
       "      <th>mm</th>\n",
       "      <th>dd</th>\n",
       "      <th>title</th>\n",
       "    </tr>\n",
       "  </thead>\n",
       "  <tbody>\n",
       "    <tr>\n",
       "      <th>4548</th>\n",
       "      <td>810</td>\n",
       "      <td>삼성화재</td>\n",
       "      <td>LIG투자증권</td>\n",
       "      <td>지태현</td>\n",
       "      <td>0.0271759782</td>\n",
       "      <td>2010.0</td>\n",
       "      <td>4.0</td>\n",
       "      <td>26.0</td>\n",
       "      <td>손해보험-손해율 고민은 그만, 지속성장과 삼성생명 상장을 즐기자</td>\n",
       "    </tr>\n",
       "    <tr>\n",
       "      <th>4549</th>\n",
       "      <td>2550</td>\n",
       "      <td>KB손해보험</td>\n",
       "      <td>대신증권</td>\n",
       "      <td>강승건</td>\n",
       "      <td>0.0114572025</td>\n",
       "      <td>2013.0</td>\n",
       "      <td>3.0</td>\n",
       "      <td>4.0</td>\n",
       "      <td>LIG손해보험-핵심 지표 흐름은 양호,신계약비 추가 상각 우려가 부담</td>\n",
       "    </tr>\n",
       "    <tr>\n",
       "      <th>4550</th>\n",
       "      <td>2550</td>\n",
       "      <td>KB손해보험</td>\n",
       "      <td>대신증권</td>\n",
       "      <td>강승건</td>\n",
       "      <td>0.0114572025</td>\n",
       "      <td>2013.0</td>\n",
       "      <td>3.0</td>\n",
       "      <td>4.0</td>\n",
       "      <td>LIG손해보험-핵심 지표 흐름은 양호,신계약비 추가 상각 우려가 부담</td>\n",
       "    </tr>\n",
       "    <tr>\n",
       "      <th>4551</th>\n",
       "      <td>175330</td>\n",
       "      <td>JB금융지주</td>\n",
       "      <td>교보증권</td>\n",
       "      <td>황석규</td>\n",
       "      <td>-0.011093044</td>\n",
       "      <td>2015.0</td>\n",
       "      <td>11.0</td>\n",
       "      <td>26.0</td>\n",
       "      <td>JB금융-두 가지 우려가 기 반영된 주가. 그러나 우려는 우려에 불과</td>\n",
       "    </tr>\n",
       "    <tr>\n",
       "      <th>4552</th>\n",
       "      <td>10130</td>\n",
       "      <td>고려아연</td>\n",
       "      <td>신한금융투자</td>\n",
       "      <td>박광래</td>\n",
       "      <td>-0.008293044</td>\n",
       "      <td>2015.0</td>\n",
       "      <td>11.0</td>\n",
       "      <td>26.0</td>\n",
       "      <td>고려아연-아연 수요 부진에 대한 우려는 지나치다</td>\n",
       "    </tr>\n",
       "  </tbody>\n",
       "</table>\n",
       "</div>"
      ],
      "text/plain": [
       "        code  coname    house analyst          carm      yy    mm    dd  \\\n",
       "4548     810    삼성화재  LIG투자증권     지태현  0.0271759782  2010.0   4.0  26.0   \n",
       "4549    2550  KB손해보험     대신증권     강승건  0.0114572025  2013.0   3.0   4.0   \n",
       "4550    2550  KB손해보험     대신증권     강승건  0.0114572025  2013.0   3.0   4.0   \n",
       "4551  175330  JB금융지주     교보증권     황석규  -0.011093044  2015.0  11.0  26.0   \n",
       "4552   10130    고려아연   신한금융투자     박광래  -0.008293044  2015.0  11.0  26.0   \n",
       "\n",
       "                                       title  \n",
       "4548     손해보험-손해율 고민은 그만, 지속성장과 삼성생명 상장을 즐기자  \n",
       "4549  LIG손해보험-핵심 지표 흐름은 양호,신계약비 추가 상각 우려가 부담  \n",
       "4550  LIG손해보험-핵심 지표 흐름은 양호,신계약비 추가 상각 우려가 부담  \n",
       "4551  JB금융-두 가지 우려가 기 반영된 주가. 그러나 우려는 우려에 불과  \n",
       "4552              고려아연-아연 수요 부진에 대한 우려는 지나치다  "
      ]
     },
     "execution_count": 65,
     "metadata": {},
     "output_type": "execute_result"
    }
   ],
   "source": [
    "df.dropna(subset=['title'], inplace=True)\n",
    "df.head()"
   ]
  },
  {
   "cell_type": "code",
   "execution_count": 32,
   "id": "3c6b135d",
   "metadata": {
    "ExecuteTime": {
     "end_time": "2022-03-20T23:39:14.161159Z",
     "start_time": "2022-03-20T23:39:14.125254Z"
    }
   },
   "outputs": [
    {
     "data": {
      "text/html": [
       "<div>\n",
       "<style scoped>\n",
       "    .dataframe tbody tr th:only-of-type {\n",
       "        vertical-align: middle;\n",
       "    }\n",
       "\n",
       "    .dataframe tbody tr th {\n",
       "        vertical-align: top;\n",
       "    }\n",
       "\n",
       "    .dataframe thead th {\n",
       "        text-align: right;\n",
       "    }\n",
       "</style>\n",
       "<table border=\"1\" class=\"dataframe\">\n",
       "  <thead>\n",
       "    <tr style=\"text-align: right;\">\n",
       "      <th></th>\n",
       "      <th>code</th>\n",
       "      <th>coname</th>\n",
       "      <th>house</th>\n",
       "      <th>analyst</th>\n",
       "      <th>carm</th>\n",
       "      <th>yy</th>\n",
       "      <th>mm</th>\n",
       "      <th>dd</th>\n",
       "      <th>title</th>\n",
       "    </tr>\n",
       "  </thead>\n",
       "  <tbody>\n",
       "    <tr>\n",
       "      <th>0</th>\n",
       "      <td>15940</td>\n",
       "      <td>LG데이콤</td>\n",
       "      <td>KTB투자증권</td>\n",
       "      <td>송재경</td>\n",
       "      <td>-0.043824253</td>\n",
       "      <td>2009.0</td>\n",
       "      <td>12.0</td>\n",
       "      <td>2.0</td>\n",
       "      <td>NaN</td>\n",
       "    </tr>\n",
       "    <tr>\n",
       "      <th>1</th>\n",
       "      <td>49070</td>\n",
       "      <td>인탑스</td>\n",
       "      <td>LIG투자증권</td>\n",
       "      <td>김갑호</td>\n",
       "      <td>0.0487471867</td>\n",
       "      <td>2009.0</td>\n",
       "      <td>12.0</td>\n",
       "      <td>15.0</td>\n",
       "      <td>NaN</td>\n",
       "    </tr>\n",
       "    <tr>\n",
       "      <th>2</th>\n",
       "      <td>49520</td>\n",
       "      <td>유아이엘</td>\n",
       "      <td>LIG투자증권</td>\n",
       "      <td>김갑호</td>\n",
       "      <td>0.0849471867</td>\n",
       "      <td>2009.0</td>\n",
       "      <td>12.0</td>\n",
       "      <td>15.0</td>\n",
       "      <td>NaN</td>\n",
       "    </tr>\n",
       "    <tr>\n",
       "      <th>3</th>\n",
       "      <td>54340</td>\n",
       "      <td>피앤텔</td>\n",
       "      <td>LIG투자증권</td>\n",
       "      <td>김갑호</td>\n",
       "      <td>-0.000152813</td>\n",
       "      <td>2009.0</td>\n",
       "      <td>12.0</td>\n",
       "      <td>15.0</td>\n",
       "      <td>NaN</td>\n",
       "    </tr>\n",
       "    <tr>\n",
       "      <th>4</th>\n",
       "      <td>68790</td>\n",
       "      <td>DMS</td>\n",
       "      <td>LIG투자증권</td>\n",
       "      <td>김영준</td>\n",
       "      <td>-0.030058153</td>\n",
       "      <td>2009.0</td>\n",
       "      <td>9.0</td>\n",
       "      <td>22.0</td>\n",
       "      <td>NaN</td>\n",
       "    </tr>\n",
       "  </tbody>\n",
       "</table>\n",
       "</div>"
      ],
      "text/plain": [
       "    code coname    house analyst          carm      yy    mm    dd title\n",
       "0  15940  LG데이콤  KTB투자증권     송재경  -0.043824253  2009.0  12.0   2.0   NaN\n",
       "1  49070    인탑스  LIG투자증권     김갑호  0.0487471867  2009.0  12.0  15.0   NaN\n",
       "2  49520   유아이엘  LIG투자증권     김갑호  0.0849471867  2009.0  12.0  15.0   NaN\n",
       "3  54340    피앤텔  LIG투자증권     김갑호  -0.000152813  2009.0  12.0  15.0   NaN\n",
       "4  68790    DMS  LIG투자증권     김영준  -0.030058153  2009.0   9.0  22.0   NaN"
      ]
     },
     "execution_count": 32,
     "metadata": {},
     "output_type": "execute_result"
    }
   ],
   "source": [
    "df.drop(NaN_title_index,axis='index',inplace=True)\n",
    "df.head()"
   ]
  },
  {
   "cell_type": "code",
   "execution_count": 23,
   "id": "cbaeeb3f",
   "metadata": {
    "ExecuteTime": {
     "end_time": "2022-03-20T23:24:46.545447Z",
     "start_time": "2022-03-20T23:24:46.534590Z"
    }
   },
   "outputs": [],
   "source": [
    "# Toy: title에서 `NaN제거 \n",
    "mydf=pd.DataFrame({'code':[1,2,3,4,5],\n",
    "                 'title':[\"NaN\",'음','글쎄','이게',\"NaN\"]})\n",
    "A = mydf[mydf['title'] == 'NaN'].index \n",
    "#'title'이 'NaN'인 행들을 모두 삭제하려면 먼저 이 행들의 index 번호를 알아야 한다. \n",
    "# column 값들은 모두 index를 축으로 정렬되어 있기 때문이다.\n",
    "mydf.drop(A,axis='index',inplace=True) \n",
    "# 이제 A를 drop 함수에 적용하려면 axis를 index로 걸어서 해야 한다. \n",
    "# A가 'All'들의 index 번호를 보유하고 있기 때문이다\n",
    "mydf"
   ]
  },
  {
   "cell_type": "code",
   "execution_count": 28,
   "id": "f31b102b",
   "metadata": {
    "ExecuteTime": {
     "end_time": "2022-03-20T23:35:42.850928Z",
     "start_time": "2022-03-20T23:35:42.841951Z"
    }
   },
   "outputs": [],
   "source": []
  },
  {
   "cell_type": "code",
   "execution_count": 29,
   "id": "1f4b7620",
   "metadata": {
    "ExecuteTime": {
     "end_time": "2022-03-20T23:35:47.101540Z",
     "start_time": "2022-03-20T23:35:47.078008Z"
    }
   },
   "outputs": [
    {
     "data": {
      "text/html": [
       "<div>\n",
       "<style scoped>\n",
       "    .dataframe tbody tr th:only-of-type {\n",
       "        vertical-align: middle;\n",
       "    }\n",
       "\n",
       "    .dataframe tbody tr th {\n",
       "        vertical-align: top;\n",
       "    }\n",
       "\n",
       "    .dataframe thead th {\n",
       "        text-align: right;\n",
       "    }\n",
       "</style>\n",
       "<table border=\"1\" class=\"dataframe\">\n",
       "  <thead>\n",
       "    <tr style=\"text-align: right;\">\n",
       "      <th></th>\n",
       "      <th>code</th>\n",
       "      <th>title</th>\n",
       "    </tr>\n",
       "  </thead>\n",
       "  <tbody>\n",
       "    <tr>\n",
       "      <th>1</th>\n",
       "      <td>2</td>\n",
       "      <td>음</td>\n",
       "    </tr>\n",
       "    <tr>\n",
       "      <th>2</th>\n",
       "      <td>3</td>\n",
       "      <td>글쎄</td>\n",
       "    </tr>\n",
       "    <tr>\n",
       "      <th>3</th>\n",
       "      <td>4</td>\n",
       "      <td>이게</td>\n",
       "    </tr>\n",
       "  </tbody>\n",
       "</table>\n",
       "</div>"
      ],
      "text/plain": [
       "   code title\n",
       "1     2     음\n",
       "2     3    글쎄\n",
       "3     4    이게"
      ]
     },
     "execution_count": 29,
     "metadata": {},
     "output_type": "execute_result"
    }
   ],
   "source": []
  },
  {
   "cell_type": "code",
   "execution_count": null,
   "id": "ae7c7729",
   "metadata": {},
   "outputs": [],
   "source": []
  }
 ],
 "metadata": {
  "kernelspec": {
   "display_name": "Python 3 (ipykernel)",
   "language": "python",
   "name": "python3"
  },
  "language_info": {
   "codemirror_mode": {
    "name": "ipython",
    "version": 3
   },
   "file_extension": ".py",
   "mimetype": "text/x-python",
   "name": "python",
   "nbconvert_exporter": "python",
   "pygments_lexer": "ipython3",
   "version": "3.9.7"
  },
  "latex_envs": {
   "LaTeX_envs_menu_present": true,
   "autoclose": false,
   "autocomplete": true,
   "bibliofile": "biblio.bib",
   "cite_by": "apalike",
   "current_citInitial": 1,
   "eqLabelWithNumbers": true,
   "eqNumInitial": 1,
   "hotkeys": {
    "equation": "Ctrl-E",
    "itemize": "Ctrl-I"
   },
   "labels_anchors": false,
   "latex_user_defs": false,
   "report_style_numbering": false,
   "user_envs_cfg": false
  }
 },
 "nbformat": 4,
 "nbformat_minor": 5
}
