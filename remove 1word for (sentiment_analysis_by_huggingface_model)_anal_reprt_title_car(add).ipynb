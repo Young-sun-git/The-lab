{
 "cells": [
  {
   "cell_type": "code",
   "execution_count": 2,
   "id": "078cde74",
   "metadata": {
    "ExecuteTime": {
     "end_time": "2022-05-03T01:12:43.065121Z",
     "start_time": "2022-05-03T01:12:43.049631Z"
    }
   },
   "outputs": [],
   "source": [
    "# !pip install Pandas \n",
    "import pandas as pd\n",
    "import numpy as np\n",
    "\n",
    "pd.set_option('display.max_columns', 17) # 보이게 할 열의 개수"
   ]
  },
  {
   "cell_type": "code",
   "execution_count": 5,
   "id": "0aa8da48",
   "metadata": {
    "ExecuteTime": {
     "end_time": "2022-05-03T01:14:22.478891Z",
     "start_time": "2022-05-03T01:14:22.190961Z"
    }
   },
   "outputs": [
    {
     "data": {
      "text/plain": [
       "(21810, 86)"
      ]
     },
     "execution_count": 5,
     "metadata": {},
     "output_type": "execute_result"
    }
   ],
   "source": [
    "data = pd.read_csv(\"data/(sentiment_analysis_by_huggingface_model) anal_reprt_title_car(add).csv\",encoding = \"cp949\")\n",
    "data.shape"
   ]
  },
  {
   "cell_type": "code",
   "execution_count": 12,
   "id": "540be9cd",
   "metadata": {
    "ExecuteTime": {
     "end_time": "2022-05-03T01:17:18.923379Z",
     "start_time": "2022-05-03T01:17:18.909747Z"
    }
   },
   "outputs": [
    {
     "data": {
      "text/plain": [
       "0                     당사 추정치와 비슷했던 3Q 실적\n",
       "1                민영화 원년 - 증익과 주주친화 확립의 해\n",
       "2         우리은행 펀더멘털을 보면 PBR 0.4배가 두렵지 않다\n",
       "3                  4Q16 Review: 높아진 이익체력\n",
       "4    순이익 증가와 자산건전성 개선으로 업종 내 Discount 해소\n",
       "Name: title, dtype: object"
      ]
     },
     "execution_count": 12,
     "metadata": {},
     "output_type": "execute_result"
    }
   ],
   "source": [
    "from copy import copy\n",
    "df = copy(data)\n",
    "df['title'].head()"
   ]
  },
  {
   "cell_type": "markdown",
   "id": "6081f68d",
   "metadata": {},
   "source": [
    "## Title EDA \n",
    "### nan 확인 "
   ]
  },
  {
   "cell_type": "code",
   "execution_count": 16,
   "id": "fe52b492",
   "metadata": {
    "ExecuteTime": {
     "end_time": "2022-05-03T01:18:53.857258Z",
     "start_time": "2022-05-03T01:18:53.849051Z"
    }
   },
   "outputs": [
    {
     "data": {
      "text/plain": [
       "False"
      ]
     },
     "execution_count": 16,
     "metadata": {},
     "output_type": "execute_result"
    }
   ],
   "source": [
    "df['title'].isnull().values.any() # NaN항목이 하나도 없으면 False "
   ]
  },
  {
   "cell_type": "markdown",
   "id": "51d210d9",
   "metadata": {},
   "source": [
    "### Title 문자열 길이 확인 "
   ]
  },
  {
   "cell_type": "code",
   "execution_count": 19,
   "id": "9b5ae41b",
   "metadata": {
    "ExecuteTime": {
     "end_time": "2022-05-03T01:25:50.024169Z",
     "start_time": "2022-05-03T01:25:49.824453Z"
    }
   },
   "outputs": [
    {
     "name": "stdout",
     "output_type": "stream",
     "text": [
      "title의 최대 길이:75\n",
      "title의 최소 길이:2\n"
     ]
    },
    {
     "data": {
      "text/plain": [
       "Text(0, 0.5, 'number of samples')"
      ]
     },
     "execution_count": 19,
     "metadata": {},
     "output_type": "execute_result"
    },
    {
     "data": {
      "image/png": "[encoded data removed]",
      "text/plain": [
       "<Figure size 432x288 with 1 Axes>"
      ]
     },
     "metadata": {
      "needs_background": "light"
     },
     "output_type": "display_data"
    }
   ],
   "source": [
    "import matplotlib.pyplot as plt\n",
    "\n",
    "# Title 문자열의 길이 분포 확인 \n",
    "length_list = df['title'].apply(lambda x: len(x)) \n",
    "plt.hist(length_list, bins = 50)  #  bins 파라미터: 히스토그램의 가로축 구간의 개수\n",
    "\n",
    "print('title의 최대 길이:{}'.format(max(length_list)))\n",
    "print('title의 최소 길이:{}'.format(min(length_list)))\n",
    "\n",
    "plt.xlabel('length of samples')\n",
    "plt.ylabel('number of samples')"
   ]
  },
  {
   "cell_type": "code",
   "execution_count": 38,
   "id": "08057926",
   "metadata": {
    "ExecuteTime": {
     "end_time": "2022-05-03T01:47:19.137782Z",
     "start_time": "2022-05-03T01:47:18.257280Z"
    }
   },
   "outputs": [],
   "source": [
    "# title 양쪽 공백 문자열 삭제 \n",
    "df['title'] = df['title'].str.strip()\n",
    "\n",
    "# 1 <= 문자열의 길이 <= 5 \n",
    "condition1 = (1 <= df['title'].str.len()) & ( df['title'].str.len() <=5)\n",
    "df_shortTitle_1_5 = df['title'].loc[ condition1 , ] \n",
    "df_shortTitle_1_5\n",
    "\n",
    "# title에 단어가 1개만 있는 경우 \n",
    "df_word1 = df.loc[~ df['title'].str.contains(\" \"), ] # title에 공백이 없는 경우 = df_word1 --> 공백이 없으면 = 단어가 1개 \n",
    "\n",
    "# 단어가 1개인 title 제외시킨 데이터셋 내보내기    \n",
    "df=df.drop(df_word1.index , axis='index') \n",
    "df.to_csv(\"Result of data cleansing/(sentiment_analysis_by_huggingface_model) anal_reprt_title_car(add)_remove 1Word.csv\", index = False ,encoding = \"cp949\")"
   ]
  },
  {
   "cell_type": "code",
   "execution_count": 34,
   "id": "41d5449e",
   "metadata": {
    "ExecuteTime": {
     "end_time": "2022-05-03T01:43:29.938812Z",
     "start_time": "2022-05-03T01:43:29.916576Z"
    }
   },
   "outputs": [],
   "source": [
    "# title에 단어가 1개만 있는 data 확인 \n",
    "# pd.set_option('display.max_columns', 17)\n",
    "# df_word1['title']\n",
    "# df_word1['title'].to_csv(\"checklist data for data cleansing/title에 단어가 하나만 있는 경우.csv\", index = False ,encoding = \"cp949\")"
   ]
  },
  {
   "cell_type": "code",
   "execution_count": null,
   "id": "c30de818",
   "metadata": {},
   "outputs": [],
   "source": [
    "# "
   ]
  }
 ],
 "metadata": {
  "kernelspec": {
   "display_name": "Python 3 (ipykernel)",
   "language": "python",
   "name": "python3"
  },
  "language_info": {
   "codemirror_mode": {
    "name": "ipython",
    "version": 3
   },
   "file_extension": ".py",
   "mimetype": "text/x-python",
   "name": "python",
   "nbconvert_exporter": "python",
   "pygments_lexer": "ipython3",
   "version": "3.9.7"
  }
 },
 "nbformat": 4,
 "nbformat_minor": 5
}
